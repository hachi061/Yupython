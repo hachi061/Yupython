{
 "cells": [
  {
   "cell_type": "code",
   "execution_count": 5,
   "id": "6f319b46",
   "metadata": {},
   "outputs": [
    {
     "name": "stdout",
     "output_type": "stream",
     "text": [
      "這是True的程式區塊\n",
      "現在是True\n",
      "應用程式結束\n"
     ]
    }
   ],
   "source": [
    "#單向選擇,有可能執行,也有可能不執行\n",
    "if True:\n",
    "    print(\"這是True的程式區塊\")\n",
    "    print(\"現在是True\")\n",
    "print(\"應用程式結束\")"
   ]
  },
  {
   "cell_type": "code",
   "execution_count": null,
   "id": "7fc24b28",
   "metadata": {},
   "outputs": [
    {
     "name": "stdout",
     "output_type": "stream",
     "text": [
      "應用程式結束\n"
     ]
    }
   ],
   "source": [
    "if False:\n",
    "    print(\"這是True的程式區塊\")\n",
    "    print(\"現在是True\")\n",
    "print(\"應用程式結束\")"
   ]
  },
  {
   "cell_type": "code",
   "execution_count": 4,
   "id": "b33d4290",
   "metadata": {},
   "outputs": [
    {
     "name": "stdout",
     "output_type": "stream",
     "text": [
      "這是True的程式區塊\n",
      "現在是True\n",
      "應用程式結束\n"
     ]
    }
   ],
   "source": [
    "#雙向選擇,一定執行其中一個程式區塊\n",
    "#只要有else,一定執行其中一個程式區塊\n",
    "if True:\n",
    "    print(\"這是True的程式區塊\")\n",
    "    print(\"現在是True\")\n",
    "else:\n",
    "    print(\"這是False的程式區塊\")\n",
    "    print(\"現在是False\")\n",
    "print(\"應用程式結束\")"
   ]
  },
  {
   "cell_type": "markdown",
   "id": "2f6aa7cf",
   "metadata": {},
   "source": [
    "### 關係運算子(符號兩側加上運算元)\n",
    "- <\n",
    "- <=\n",
    "- >\n",
    "- >=\n",
    "- == 兩邊是否等於\n",
    "- != 兩邊是否不等於\n"
   ]
  },
  {
   "cell_type": "code",
   "execution_count": null,
   "id": "35b74c9a",
   "metadata": {},
   "outputs": [
    {
     "name": "stdout",
     "output_type": "stream",
     "text": [
      "未滿18歲:D\n"
     ]
    }
   ],
   "source": [
    "age:int = int(input(\":請輸入年齡:\"))\n",
    "if age >= 18:\n",
    "    print(\"可以考駕照\")\n",
    "else:\n",
    "    print(\"未滿18歲:D , 不可以考駕照\")"
   ]
  },
  {
   "cell_type": "code",
   "execution_count": null,
   "id": "cefb0612",
   "metadata": {},
   "outputs": [],
   "source": [
    "#學生總分為300分\n",
    "#有些學生可以加分5%\n",
    "\n",
    "score:int = int(input(\"請輸入學生分數(最高分為300分):\"))\n",
    "is_add:str = input(\"學生是否符合加分條件?(y/n)\")\n",
    "\n",
    "if(is_add == \"y\"):\n",
    "    score *=1.05\n",
    "print(round(score))\n"
   ]
  },
  {
   "cell_type": "markdown",
   "id": "7f7d3d65",
   "metadata": {},
   "source": []
  }
 ],
 "metadata": {
  "kernelspec": {
   "display_name": "base",
   "language": "python",
   "name": "python3"
  },
  "language_info": {
   "codemirror_mode": {
    "name": "ipython",
    "version": 3
   },
   "file_extension": ".py",
   "mimetype": "text/x-python",
   "name": "python",
   "nbconvert_exporter": "python",
   "pygments_lexer": "ipython3",
   "version": "3.12.9"
  }
 },
 "nbformat": 4,
 "nbformat_minor": 5
}
