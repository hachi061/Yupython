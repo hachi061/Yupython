{
 "cells": [
  {
   "cell_type": "code",
   "execution_count": 1,
   "id": "cf84703f",
   "metadata": {},
   "outputs": [
    {
     "name": "stdout",
     "output_type": "stream",
     "text": [
      "數值在120-220\n"
     ]
    }
   ],
   "source": [
    "value:int = int(input(\"請輸入一個數值:\"))\n",
    "if value >= 120:\n",
    "    if value <=220:\n",
    "        print(\"數值在120-220\")"
   ]
  },
  {
   "cell_type": "code",
   "execution_count": null,
   "id": "b22ae829",
   "metadata": {},
   "outputs": [
    {
     "name": "stdout",
     "output_type": "stream",
     "text": [
      "大於220\n"
     ]
    }
   ],
   "source": [
    "value:int = int(input(\"請輸入一個數值:\"))\n",
    "if value < 120:\n",
    "    print(\"小於120\")\n",
    "if value > 220:\n",
    "    print(\"大於220\")"
   ]
  },
  {
   "cell_type": "code",
   "execution_count": null,
   "id": "d26c1611",
   "metadata": {},
   "outputs": [
    {
     "name": "stdout",
     "output_type": "stream",
     "text": [
      "數值在120-220\n"
     ]
    }
   ],
   "source": [
    "value:int = int(input(\"請輸入一個數值:\"))\n",
    "if value >= 120 and value <= 220: #使用邏輯運算子(bool and同時 bool)(嚴格得到true)\n",
    "    print(\"數值在120-220\")"
   ]
  },
  {
   "cell_type": "code",
   "execution_count": null,
   "id": "8c1a0cb6",
   "metadata": {},
   "outputs": [
    {
     "name": "stdout",
     "output_type": "stream",
     "text": [
      "小於120或者大於220\n"
     ]
    }
   ],
   "source": [
    "value:int = int(input(\"請輸入一個數值:\"))\n",
    "if value < 120 or value > 220: #(or容易true)\n",
    "    print(\"小於120或者大於220\")\n"
   ]
  }
 ],
 "metadata": {
  "kernelspec": {
   "display_name": "base",
   "language": "python",
   "name": "python3"
  },
  "language_info": {
   "codemirror_mode": {
    "name": "ipython",
    "version": 3
   },
   "file_extension": ".py",
   "mimetype": "text/x-python",
   "name": "python",
   "nbconvert_exporter": "python",
   "pygments_lexer": "ipython3",
   "version": "3.12.9"
  }
 },
 "nbformat": 4,
 "nbformat_minor": 5
}
