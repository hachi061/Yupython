{
 "cells": [
  {
   "cell_type": "markdown",
   "id": "2f6f4dd8",
   "metadata": {},
   "source": [
    "https://flask.palletsprojects.com/en/stable/quickstart/#a-minimal-application"
   ]
  }
 ],
 "metadata": {
  "kernelspec": {
   "display_name": "python2_4",
   "language": "python",
   "name": "python3"
  },
  "language_info": {
   "name": "python",
   "version": "3.11.13"
  }
 },
 "nbformat": 4,
 "nbformat_minor": 5
}
