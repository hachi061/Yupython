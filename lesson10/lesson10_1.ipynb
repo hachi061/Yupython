{
 "cells": [
  {
   "cell_type": "code",
   "execution_count": 6,
   "id": "7f31ad44",
   "metadata": {},
   "outputs": [
    {
     "name": "stdout",
     "output_type": "stream",
     "text": [
      "  1.林志喜\n",
      "  2.尚偉倫\n",
      "  3.王雅慧\n"
     ]
    },
    {
     "data": {
      "text/plain": [
       "<function TextIOWrapper.close()>"
      ]
     },
     "execution_count": 6,
     "metadata": {},
     "output_type": "execute_result"
    }
   ],
   "source": [
    "import random\n",
    "\n",
    "file = open(\"names.txt\",encoding='utf-8')\n",
    "contents:list[str] = file.readlines()\n",
    "file.close()\n",
    "name_arr:list[str] = [name.strip() for name in contents]\n",
    "pick = int(input(\"請輸入所需姓名數量:\"));\n",
    "\n",
    "for i in range(0 , pick):\n",
    "    index = random.randint(0 , len(name_arr));\n",
    "    print(f\"{i+1:3d}.{name_arr[index]}\");\n",
    "\n",
    "file.close"
   ]
  },
  {
   "cell_type": "code",
   "execution_count": 5,
   "id": "d24eb6b2",
   "metadata": {},
   "outputs": [
    {
     "name": "stdout",
     "output_type": "stream",
     "text": [
      "1.葉志峰\n",
      "2.楊又源\n",
      "3.劉慧君\n"
     ]
    }
   ],
   "source": [
    "import random\n",
    "\n",
    "file = open(\"names.txt\",encoding='utf-8')\n",
    "contents:list[str] = file.readlines()\n",
    "file.close()\n",
    "name_arr:list[str] = [name.strip() for name in contents]\n",
    "pick = int(input(\"請輸入所需姓名數量:\"));\n",
    "\n",
    "for idx, name_arr in enumerate(random.sample(name_arr , pick)):\n",
    "    print(f'{idx+1}.{name_arr}')"
   ]
  },
  {
   "cell_type": "code",
   "execution_count": 8,
   "id": "d232e36d",
   "metadata": {},
   "outputs": [
    {
     "data": {
      "text/plain": [
       "[{'姓名': '陳怡伶', '國文': 83, '英文': 66, '數學': 51},\n",
       " {'姓名': '陳向愛', '國文': 100, '英文': 51, '數學': 96},\n",
       " {'姓名': '翁羽威', '國文': 74, '英文': 93, '數學': 75}]"
      ]
     },
     "execution_count": 8,
     "metadata": {},
     "output_type": "execute_result"
    }
   ],
   "source": [
    "import random\n",
    "\n",
    "with open(\"names.txt\",encoding='utf-8') as file:\n",
    "    contents:list[str] = file.readlines()\n",
    "\n",
    "\n",
    "name_arr:list[str] = [name.strip() for name in contents]\n",
    "pick = int(input(\"請輸入所需姓名數量:\"));\n",
    "\n",
    "\n",
    "selected_names = random.sample(name_arr, pick)\n",
    "students_data:list[dict] = [\n",
    "    {\n",
    "        '姓名':name,\n",
    "        '國文':random.randint(50,100),\n",
    "        '英文':random.randint(50,100),\n",
    "        '數學':random.randint(50, 100) \n",
    "    }\n",
    "    for name in selected_names]\n",
    "students_data"
   ]
  }
 ],
 "metadata": {
  "kernelspec": {
   "display_name": "base",
   "language": "python",
   "name": "python3"
  },
  "language_info": {
   "codemirror_mode": {
    "name": "ipython",
    "version": 3
   },
   "file_extension": ".py",
   "mimetype": "text/x-python",
   "name": "python",
   "nbconvert_exporter": "python",
   "pygments_lexer": "ipython3",
   "version": "3.12.9"
  }
 },
 "nbformat": 4,
 "nbformat_minor": 5
}
