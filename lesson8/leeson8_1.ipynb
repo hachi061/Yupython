{
 "cells": [
  {
   "cell_type": "markdown",
   "id": "d387b7e3",
   "metadata": {},
   "source": [
    "### tuple\n",
    "- immutable(不可變的變數)\n",
    "- sequence(串列資料)\n",
    "- iterable(可重複讀取)\n",
    "- 拆解法\n",
    "- 用括號()符號建立\n",
    "- typehint(tuple)\n"
   ]
  },
  {
   "cell_type": "code",
   "execution_count": null,
   "id": "0fae5b80",
   "metadata": {},
   "outputs": [],
   "source": [
    "#拆解法\n",
    "name, age = \"robert\", 45\n",
    "print(name)\n",
    "print(age)\n"
   ]
  },
  {
   "cell_type": "markdown",
   "id": "2ec574d3",
   "metadata": {},
   "source": [
    "### list\n",
    "- mutable(可變的變數)\n",
    "- sequence(串列資料)\n",
    "- iterable(可重複讀取)\n",
    "- 拆解法\n",
    "- 用中括號[]符號建立\n",
    "- typehint(list)\n"
   ]
  },
  {
   "cell_type": "code",
   "execution_count": null,
   "id": "07f1d0c9",
   "metadata": {},
   "outputs": [
    {
     "data": {
      "text/plain": [
       "list"
      ]
     },
     "execution_count": 3,
     "metadata": {},
     "output_type": "execute_result"
    }
   ],
   "source": [
    "weekdays = ['星期一', '星期二', '星期三', '星期四', '星期五', '星期六', '星期日']\n",
    "type(weekdays)#查找類別"
   ]
  },
  {
   "cell_type": "code",
   "execution_count": null,
   "id": "b05ce313",
   "metadata": {},
   "outputs": [
    {
     "data": {
      "text/plain": [
       "'星期六'"
      ]
     },
     "execution_count": 7,
     "metadata": {},
     "output_type": "execute_result"
    }
   ],
   "source": [
    "#取出元素和修改元素\n",
    "#使用[index]\n",
    "weekdays[0]\n",
    "weekdays[1]\n",
    "weekdays[-2]\n"
   ]
  },
  {
   "cell_type": "code",
   "execution_count": 14,
   "id": "c808c1e5",
   "metadata": {},
   "outputs": [
    {
     "data": {
      "text/plain": [
       "['星期一', '星期二', '星期三']"
      ]
     },
     "execution_count": 14,
     "metadata": {},
     "output_type": "execute_result"
    }
   ],
   "source": [
    "#[slice]\n",
    "#[起始(包含)；結束(不包含)]\n",
    "\n",
    "weekdays[0:3]\n",
    "weekdays[-6:-4]\n",
    "weekdays[-3:]#空白指直到最後(或是只有之前的)\n",
    "weekdays[:3]"
   ]
  }
 ],
 "metadata": {
  "kernelspec": {
   "display_name": "base",
   "language": "python",
   "name": "python3"
  },
  "language_info": {
   "codemirror_mode": {
    "name": "ipython",
    "version": 3
   },
   "file_extension": ".py",
   "mimetype": "text/x-python",
   "name": "python",
   "nbconvert_exporter": "python",
   "pygments_lexer": "ipython3",
   "version": "3.12.9"
  }
 },
 "nbformat": 4,
 "nbformat_minor": 5
}
