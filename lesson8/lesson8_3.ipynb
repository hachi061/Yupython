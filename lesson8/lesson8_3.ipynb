{
 "cells": [
  {
   "cell_type": "code",
   "execution_count": null,
   "id": "fc2d8a3e",
   "metadata": {},
   "outputs": [],
   "source": [
    "weekdays = ['星期一', '星期二', '星期三', '星期四', '星期五', '星期六', '星期日']\n",
    "type(weekdays)\n",
    "#list 的實體"
   ]
  },
  {
   "cell_type": "code",
   "execution_count": 52,
   "id": "8b4c0778",
   "metadata": {},
   "outputs": [
    {
     "data": {
      "text/plain": [
       "list"
      ]
     },
     "execution_count": 52,
     "metadata": {},
     "output_type": "execute_result"
    }
   ],
   "source": [
    "fruits = ['apple', 'banana', 'orange']\n",
    "type(fruits)"
   ]
  },
  {
   "cell_type": "code",
   "execution_count": 54,
   "id": "cf97481e",
   "metadata": {},
   "outputs": [
    {
     "data": {
      "text/plain": [
       "['apple', 'banana', 'orange', 'greap', 'greap']"
      ]
     },
     "execution_count": 54,
     "metadata": {},
     "output_type": "execute_result"
    }
   ],
   "source": [
    "fruits.append(\"greap\")\n",
    "fruits"
   ]
  },
  {
   "cell_type": "code",
   "execution_count": null,
   "id": "a4ad48cb",
   "metadata": {},
   "outputs": [],
   "source": [
    "fruits.pop()\n",
    "fruits"
   ]
  },
  {
   "cell_type": "markdown",
   "id": "e9333ab4",
   "metadata": {},
   "source": [
    "###　dataclass\n"
   ]
  },
  {
   "cell_type": "code",
   "execution_count": 56,
   "id": "caa4b786",
   "metadata": {},
   "outputs": [],
   "source": [
    "from dataclasses import dataclass\n",
    "\n",
    "@dataclass\n",
    "class Student:\n",
    "    name:str\n",
    "    chinese:int\n",
    "    english:int\n",
    "    math:int"
   ]
  },
  {
   "cell_type": "code",
   "execution_count": 58,
   "id": "59ecc276",
   "metadata": {},
   "outputs": [
    {
     "data": {
      "text/plain": [
       "__main__.Student"
      ]
     },
     "execution_count": 58,
     "metadata": {},
     "output_type": "execute_result"
    }
   ],
   "source": [
    "#透過class Student 建立實體\n",
    "students:list[Student] = Student(name=\"robert\",chinese=\"98\",english=\"76\",math=\"87\")\n",
    "Student(name=\"jenny\",chinese=\"89\",english=\"78\",math=\"65\")\n",
    "\n",
    "type(students)\n"
   ]
  }
 ],
 "metadata": {
  "kernelspec": {
   "display_name": "base",
   "language": "python",
   "name": "python3"
  },
  "language_info": {
   "codemirror_mode": {
    "name": "ipython",
    "version": 3
   },
   "file_extension": ".py",
   "mimetype": "text/x-python",
   "name": "python",
   "nbconvert_exporter": "python",
   "pygments_lexer": "ipython3",
   "version": "3.12.9"
  }
 },
 "nbformat": 4,
 "nbformat_minor": 5
}
