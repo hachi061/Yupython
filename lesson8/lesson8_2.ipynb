{
 "cells": [
  {
   "cell_type": "markdown",
   "id": "a5e096b1",
   "metadata": {},
   "source": [
    "### list_comprehension(快速建立list)\n",
    "- [ expression for item in iterable]"
   ]
  },
  {
   "cell_type": "code",
   "execution_count": 7,
   "id": "79bab49f",
   "metadata": {},
   "outputs": [
    {
     "name": "stdout",
     "output_type": "stream",
     "text": [
      "1\n",
      "2\n",
      "3\n",
      "4\n",
      "5\n",
      "6\n",
      "7\n",
      "8\n",
      "9\n",
      "10\n"
     ]
    }
   ],
   "source": [
    "for i in range(1, 11):\n",
    "    print(i)"
   ]
  },
  {
   "cell_type": "code",
   "execution_count": 8,
   "id": "ab75dd66",
   "metadata": {},
   "outputs": [
    {
     "data": {
      "text/plain": [
       "[2, 4, 6, 8, 10, 12, 14, 16, 18, 20]"
      ]
     },
     "execution_count": 8,
     "metadata": {},
     "output_type": "execute_result"
    }
   ],
   "source": [
    "[i*2 for i in range(1, 11)]"
   ]
  },
  {
   "cell_type": "markdown",
   "id": "94230b47",
   "metadata": {},
   "source": [
    "- [ expression for item in iterable if 條件式]"
   ]
  },
  {
   "cell_type": "code",
   "execution_count": 9,
   "id": "ed5523c6",
   "metadata": {},
   "outputs": [
    {
     "data": {
      "text/plain": [
       "[2, 6, 10, 14, 18]"
      ]
     },
     "execution_count": 9,
     "metadata": {},
     "output_type": "execute_result"
    }
   ],
   "source": [
    "[i*2 for i in range(1, 11) if i %2 == 1]#1正確2是錯誤"
   ]
  },
  {
   "cell_type": "markdown",
   "id": "a2c19840",
   "metadata": {},
   "source": [
    "### map(), filter"
   ]
  },
  {
   "cell_type": "code",
   "execution_count": null,
   "id": "3e154a0f",
   "metadata": {},
   "outputs": [
    {
     "data": {
      "text/plain": [
       "[{'姓名': '張xx', 'age': '35', 'score': '256'},\n",
       " {'姓名': '王xx', 'age': '45', 'score': '278'},\n",
       " {'姓名': '李xx', 'age': '37', 'score': '291'}]"
      ]
     },
     "execution_count": 15,
     "metadata": {},
     "output_type": "execute_result"
    }
   ],
   "source": [
    "#記憶體內的表格資料\n",
    "\n",
    "students = [{\"姓名\":\"張xx\", \"age\":\"35\", \"score\":\"256\"},\n",
    "    {\"姓名\":\"王xx\", \"age\":\"45\", \"score\":\"278\"},\n",
    "    {\"姓名\":\"李xx\", \"age\":\"37\", \"score\":\"291\"}\n",
    "]\n",
    "students"
   ]
  },
  {
   "cell_type": "code",
   "execution_count": 17,
   "id": "362306f6",
   "metadata": {},
   "outputs": [
    {
     "name": "stdout",
     "output_type": "stream",
     "text": [
      "{'姓名': '張xx', 'age': '35', 'score': '256'}\n",
      "{'姓名': '王xx', 'age': '45', 'score': '278'}\n",
      "{'姓名': '李xx', 'age': '37', 'score': '291'}\n"
     ]
    }
   ],
   "source": [
    "for student in students:\n",
    "    print(student)"
   ]
  },
  {
   "cell_type": "code",
   "execution_count": null,
   "id": "0ab9bbd6",
   "metadata": {},
   "outputs": [],
   "source": []
  }
 ],
 "metadata": {
  "kernelspec": {
   "display_name": "base",
   "language": "python",
   "name": "python3"
  },
  "language_info": {
   "codemirror_mode": {
    "name": "ipython",
    "version": 3
   },
   "file_extension": ".py",
   "mimetype": "text/x-python",
   "name": "python",
   "nbconvert_exporter": "python",
   "pygments_lexer": "ipython3",
   "version": "3.12.9"
  }
 },
 "nbformat": 4,
 "nbformat_minor": 5
}
