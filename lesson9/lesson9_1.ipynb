{
 "cells": [
  {
   "cell_type": "code",
   "execution_count": null,
   "id": "581dce29",
   "metadata": {},
   "outputs": [],
   "source": [
    "from dataclasses import dataclass\n",
    "\n",
    "@dataclass\n",
    "class Student:\n",
    "    name:str\n",
    "    chinese:int\n",
    "    english:int\n",
    "    math:int #attribute\n",
    "\n",
    "    @property\n",
    "    def total(self)->int: #self 代表實體\n",
    "        return self.chinese + self.english + self.math"
   ]
  },
  {
   "cell_type": "code",
   "execution_count": null,
   "id": "71b3769e",
   "metadata": {},
   "outputs": [
    {
     "data": {
      "text/plain": [
       "('robert', '89', '78', '92')"
      ]
     },
     "execution_count": 4,
     "metadata": {},
     "output_type": "execute_result"
    }
   ],
   "source": [
    "stu1 = Student(name='robert', chinese='89', english='78', math='92')\n",
    "print(type(stu1))\n",
    "print(stu1.name, stu1.chinese, stu1.english, stu1.math)\n",
    "stu1.total\n"
   ]
  },
  {
   "cell_type": "code",
   "execution_count": 5,
   "id": "2141eca5",
   "metadata": {},
   "outputs": [
    {
     "data": {
      "text/plain": [
       "('jenny', '76', '87', '89')"
      ]
     },
     "execution_count": 5,
     "metadata": {},
     "output_type": "execute_result"
    }
   ],
   "source": [
    "stu2 = Student(name='jenny', chinese='76', english='87', math='89')\n",
    "type(stu2)\n",
    "stu2.name, stu2.chinese, stu2.english, stu2.math"
   ]
  }
 ],
 "metadata": {
  "kernelspec": {
   "display_name": "base",
   "language": "python",
   "name": "python3"
  },
  "language_info": {
   "codemirror_mode": {
    "name": "ipython",
    "version": 3
   },
   "file_extension": ".py",
   "mimetype": "text/x-python",
   "name": "python",
   "nbconvert_exporter": "python",
   "pygments_lexer": "ipython3",
   "version": "3.12.9"
  }
 },
 "nbformat": 4,
 "nbformat_minor": 5
}
