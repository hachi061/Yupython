{
 "cells": [
  {
   "cell_type": "markdown",
   "id": "69a913ac",
   "metadata": {},
   "source": [
    "https://www.perplexity.ai/search/58cd595a-b8c3-46d6-b687-cc04dd624fb4"
   ]
  },
  {
   "cell_type": "markdown",
   "id": "2a65b78b",
   "metadata": {},
   "source": []
  }
 ],
 "metadata": {
  "kernelspec": {
   "display_name": "python2_4",
   "language": "python",
   "name": "python3"
  },
  "language_info": {
   "name": "python",
   "version": "3.11.13"
  }
 },
 "nbformat": 4,
 "nbformat_minor": 5
}
