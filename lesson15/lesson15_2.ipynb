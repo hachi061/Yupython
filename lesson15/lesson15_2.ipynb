{
 "cells": [
  {
   "cell_type": "markdown",
   "id": "bc03c936",
   "metadata": {},
   "source": [
    "https://www.perplexity.ai/search/27854047-0059-44b3-b1ed-b6dbdddd6505\n",
    "\n",
    "# numpy的索引和切割"
   ]
  },
  {
   "cell_type": "code",
   "execution_count": 2,
   "id": "d92d861f",
   "metadata": {},
   "outputs": [
    {
     "data": {
      "text/plain": [
       "array([[ 64,  88,  95,  97,  85],\n",
       "       [ 69,  62,  82,  69,  96],\n",
       "       [ 65,  96,  63,  59,  52],\n",
       "       [ 87,  84,  77,  96, 100],\n",
       "       [ 98,  58,  70,  80,  84]], dtype=int32)"
      ]
     },
     "execution_count": 2,
     "metadata": {},
     "output_type": "execute_result"
    }
   ],
   "source": [
    "import numpy as np\n",
    "scores = np.random.randint(50,101,size=(5,5))\n",
    "scores"
   ]
  },
  {
   "cell_type": "code",
   "execution_count": 3,
   "id": "26d0c0f7",
   "metadata": {},
   "outputs": [
    {
     "data": {
      "text/plain": [
       "array([[95, 97, 85],\n",
       "       [82, 69, 96],\n",
       "       [63, 59, 52]], dtype=int32)"
      ]
     },
     "execution_count": 3,
     "metadata": {},
     "output_type": "execute_result"
    }
   ],
   "source": [
    "scores[:3,2:]"
   ]
  },
  {
   "cell_type": "code",
   "execution_count": 6,
   "id": "758723b0",
   "metadata": {},
   "outputs": [
    {
     "data": {
      "text/plain": [
       "array([[98, 58, 70, 80, 84]], dtype=int32)"
      ]
     },
     "execution_count": 6,
     "metadata": {},
     "output_type": "execute_result"
    }
   ],
   "source": [
    "scores[4]\n",
    "scores[4,:]\n",
    "scores[4:,:]"
   ]
  },
  {
   "cell_type": "code",
   "execution_count": 8,
   "id": "063cdae5",
   "metadata": {},
   "outputs": [
    {
     "data": {
      "text/plain": [
       "array([[ 95,  97,  85],\n",
       "       [ 82,  69,  96],\n",
       "       [ 63,  59,  52],\n",
       "       [ 77,  96, 100],\n",
       "       [ 70,  80,  84]], dtype=int32)"
      ]
     },
     "execution_count": 8,
     "metadata": {},
     "output_type": "execute_result"
    }
   ],
   "source": [
    "scores[:,2:]"
   ]
  }
 ],
 "metadata": {
  "kernelspec": {
   "display_name": "python2_4",
   "language": "python",
   "name": "python3"
  },
  "language_info": {
   "codemirror_mode": {
    "name": "ipython",
    "version": 3
   },
   "file_extension": ".py",
   "mimetype": "text/x-python",
   "name": "python",
   "nbconvert_exporter": "python",
   "pygments_lexer": "ipython3",
   "version": "3.11.13"
  }
 },
 "nbformat": 4,
 "nbformat_minor": 5
}
