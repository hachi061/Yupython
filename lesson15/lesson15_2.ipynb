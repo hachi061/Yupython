{
 "cells": [
  {
   "cell_type": "markdown",
   "id": "bc03c936",
   "metadata": {},
   "source": [
    "https://www.perplexity.ai/search/27854047-0059-44b3-b1ed-b6dbdddd6505\n",
    "\n",
    "### numpy的索引和切割"
   ]
  },
  {
   "cell_type": "code",
   "execution_count": 2,
   "id": "d92d861f",
   "metadata": {},
   "outputs": [
    {
     "data": {
      "text/plain": [
       "array([[ 64,  88,  95,  97,  85],\n",
       "       [ 69,  62,  82,  69,  96],\n",
       "       [ 65,  96,  63,  59,  52],\n",
       "       [ 87,  84,  77,  96, 100],\n",
       "       [ 98,  58,  70,  80,  84]], dtype=int32)"
      ]
     },
     "execution_count": 2,
     "metadata": {},
     "output_type": "execute_result"
    }
   ],
   "source": [
    "import numpy as np\n",
    "scores = np.random.randint(50,101,size=(5,5))\n",
    "scores"
   ]
  },
  {
   "cell_type": "code",
   "execution_count": 3,
   "id": "26d0c0f7",
   "metadata": {},
   "outputs": [
    {
     "data": {
      "text/plain": [
       "array([[95, 97, 85],\n",
       "       [82, 69, 96],\n",
       "       [63, 59, 52]], dtype=int32)"
      ]
     },
     "execution_count": 3,
     "metadata": {},
     "output_type": "execute_result"
    }
   ],
   "source": [
    "scores[:3,2:]"
   ]
  },
  {
   "cell_type": "code",
   "execution_count": 6,
   "id": "758723b0",
   "metadata": {},
   "outputs": [
    {
     "data": {
      "text/plain": [
       "array([[98, 58, 70, 80, 84]], dtype=int32)"
      ]
     },
     "execution_count": 6,
     "metadata": {},
     "output_type": "execute_result"
    }
   ],
   "source": [
    "scores[4]\n",
    "scores[4,:]\n",
    "scores[4:,:]"
   ]
  },
  {
   "cell_type": "code",
   "execution_count": 8,
   "id": "063cdae5",
   "metadata": {},
   "outputs": [
    {
     "data": {
      "text/plain": [
       "array([[ 95,  97,  85],\n",
       "       [ 82,  69,  96],\n",
       "       [ 63,  59,  52],\n",
       "       [ 77,  96, 100],\n",
       "       [ 70,  80,  84]], dtype=int32)"
      ]
     },
     "execution_count": 8,
     "metadata": {},
     "output_type": "execute_result"
    }
   ],
   "source": [
    "scores[:,2:]"
   ]
  },
  {
   "cell_type": "markdown",
   "id": "4829c20a",
   "metadata": {},
   "source": [
    "### numpy統計工具"
   ]
  },
  {
   "cell_type": "code",
   "execution_count": 9,
   "id": "69457bb8",
   "metadata": {},
   "outputs": [
    {
     "data": {
      "text/plain": [
       "array([[66, 60, 68, 59, 69],\n",
       "       [94, 51, 74, 58, 92],\n",
       "       [89, 75, 85, 98, 80],\n",
       "       [82, 95, 86, 96, 65],\n",
       "       [52, 62, 84, 82, 58]], dtype=int32)"
      ]
     },
     "execution_count": 9,
     "metadata": {},
     "output_type": "execute_result"
    }
   ],
   "source": [
    "scores = np.random.randint(50,101,size=(5,5))\n",
    "scores"
   ]
  },
  {
   "cell_type": "code",
   "execution_count": 11,
   "id": "587f0171",
   "metadata": {},
   "outputs": [
    {
     "data": {
      "text/plain": [
       "array([322, 369, 427, 424, 338])"
      ]
     },
     "execution_count": 11,
     "metadata": {},
     "output_type": "execute_result"
    }
   ],
   "source": [
    "#加總\n",
    "np.sum(scores,axis=1)#axis有零有一\n"
   ]
  },
  {
   "cell_type": "code",
   "execution_count": 12,
   "id": "5ba9604c",
   "metadata": {},
   "outputs": [
    {
     "data": {
      "text/plain": [
       "array([64.4, 73.8, 85.4, 84.8, 67.6])"
      ]
     },
     "execution_count": 12,
     "metadata": {},
     "output_type": "execute_result"
    }
   ],
   "source": [
    "#平均\n",
    "np.mean(scores, axis=1)\n"
   ]
  },
  {
   "cell_type": "code",
   "execution_count": 13,
   "id": "139cfa48",
   "metadata": {},
   "outputs": [
    {
     "data": {
      "text/plain": [
       "array([69, 94, 98, 96, 84], dtype=int32)"
      ]
     },
     "execution_count": 13,
     "metadata": {},
     "output_type": "execute_result"
    }
   ],
   "source": [
    "#最大\n",
    "np.max(scores,axis=1)\n"
   ]
  },
  {
   "cell_type": "code",
   "execution_count": 14,
   "id": "32a1f8a1",
   "metadata": {},
   "outputs": [
    {
     "data": {
      "text/plain": [
       "array([59, 51, 75, 65, 52], dtype=int32)"
      ]
     },
     "execution_count": 14,
     "metadata": {},
     "output_type": "execute_result"
    }
   ],
   "source": [
    "#最小\n",
    "np.min(scores,axis=1)"
   ]
  },
  {
   "cell_type": "code",
   "execution_count": 15,
   "id": "359b800b",
   "metadata": {},
   "outputs": [
    {
     "data": {
      "text/plain": [
       "array([66., 74., 85., 86., 62.])"
      ]
     },
     "execution_count": 15,
     "metadata": {},
     "output_type": "execute_result"
    }
   ],
   "source": [
    "#中間數\n",
    "np.median(scores,axis=1)"
   ]
  },
  {
   "cell_type": "code",
   "execution_count": 16,
   "id": "49d25895",
   "metadata": {},
   "outputs": [
    {
     "data": {
      "text/plain": [
       "array([ 4.12795349, 17.3712406 ,  7.8638413 , 11.23209687, 12.98614646])"
      ]
     },
     "execution_count": 16,
     "metadata": {},
     "output_type": "execute_result"
    }
   ],
   "source": [
    "#標準差\n",
    "np.std(scores,axis=1)"
   ]
  }
 ],
 "metadata": {
  "kernelspec": {
   "display_name": "python2_4",
   "language": "python",
   "name": "python3"
  },
  "language_info": {
   "codemirror_mode": {
    "name": "ipython",
    "version": 3
   },
   "file_extension": ".py",
   "mimetype": "text/x-python",
   "name": "python",
   "nbconvert_exporter": "python",
   "pygments_lexer": "ipython3",
   "version": "3.11.13"
  }
 },
 "nbformat": 4,
 "nbformat_minor": 5
}
