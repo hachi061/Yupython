{
 "cells": [
  {
   "cell_type": "markdown",
   "id": "8ace8c0d",
   "metadata": {},
   "source": [
    "https://www.perplexity.ai/search/1f6d8098-e981-44bf-b915-b14b9e9052da"
   ]
  },
  {
   "cell_type": "code",
   "execution_count": 1,
   "id": "93f195f4",
   "metadata": {},
   "outputs": [
    {
     "data": {
      "text/plain": [
       "array([1, 3, 5, 7, 9])"
      ]
     },
     "execution_count": 1,
     "metadata": {},
     "output_type": "execute_result"
    }
   ],
   "source": [
    "import numpy as np\n",
    "np.array([1, 3, 5, 7, 9])"
   ]
  },
  {
   "cell_type": "code",
   "execution_count": null,
   "id": "fcdc9347",
   "metadata": {},
   "outputs": [
    {
     "data": {
      "text/plain": [
       "array([[0., 0., 0., 0.],\n",
       "       [0., 0., 0., 0.],\n",
       "       [0., 0., 0., 0.]])"
      ]
     },
     "execution_count": 2,
     "metadata": {},
     "output_type": "execute_result"
    }
   ],
   "source": [
    "np.zeros((3, 4)) "
   ]
  },
  {
   "cell_type": "code",
   "execution_count": 3,
   "id": "12b1a3df",
   "metadata": {},
   "outputs": [
    {
     "data": {
      "text/plain": [
       "array([[1., 1., 1., 1.],\n",
       "       [1., 1., 1., 1.],\n",
       "       [1., 1., 1., 1.]])"
      ]
     },
     "execution_count": 3,
     "metadata": {},
     "output_type": "execute_result"
    }
   ],
   "source": [
    "np.ones((3,4))"
   ]
  },
  {
   "cell_type": "code",
   "execution_count": 4,
   "id": "1b846bca",
   "metadata": {},
   "outputs": [
    {
     "data": {
      "text/plain": [
       "array([0. , 0.1, 0.2, 0.3, 0.4, 0.5, 0.6, 0.7, 0.8, 0.9])"
      ]
     },
     "execution_count": 4,
     "metadata": {},
     "output_type": "execute_result"
    }
   ],
   "source": [
    "np.arange(0,1,0.1)"
   ]
  },
  {
   "cell_type": "code",
   "execution_count": 5,
   "id": "34f8ab2d",
   "metadata": {},
   "outputs": [
    {
     "data": {
      "text/plain": [
       "array([0.        , 0.11111111, 0.22222222, 0.33333333, 0.44444444,\n",
       "       0.55555556, 0.66666667, 0.77777778, 0.88888889, 1.        ])"
      ]
     },
     "execution_count": 5,
     "metadata": {},
     "output_type": "execute_result"
    }
   ],
   "source": [
    "np.linspace(0,1,10)"
   ]
  },
  {
   "cell_type": "code",
   "execution_count": 6,
   "id": "e0005943",
   "metadata": {},
   "outputs": [
    {
     "data": {
      "text/plain": [
       "array([[0.4015388 , 0.10478782, 0.75427081, 0.55662918],\n",
       "       [0.96413949, 0.57381913, 0.52663573, 0.92903971],\n",
       "       [0.37489405, 0.77646857, 0.53580621, 0.90234393]])"
      ]
     },
     "execution_count": 6,
     "metadata": {},
     "output_type": "execute_result"
    }
   ],
   "source": [
    "np.random.rand(3, 4)"
   ]
  },
  {
   "cell_type": "code",
   "execution_count": 9,
   "id": "53decfae",
   "metadata": {},
   "outputs": [
    {
     "data": {
      "text/plain": [
       "array([[ 99,  50,  97,  52,  72],\n",
       "       [ 60,  98,  77,  96, 100],\n",
       "       [ 83,  83,  72,  59,  66],\n",
       "       [ 74,  80,  53,  99,  58],\n",
       "       [ 57,  76,  53,  97,  83],\n",
       "       [ 70,  70,  79,  61,  70],\n",
       "       [ 62,  69,  62,  84,  96],\n",
       "       [ 87,  70,  97,  77,  66],\n",
       "       [ 59,  82,  54,  88,  59],\n",
       "       [ 70,  67,  76,  93,  81],\n",
       "       [ 87,  94,  79,  90,  74],\n",
       "       [ 56,  51,  84,  83,  66],\n",
       "       [ 53,  51,  85,  64,  66],\n",
       "       [ 80,  94,  53,  77,  73],\n",
       "       [ 86,  99,  77,  80,  97],\n",
       "       [ 93,  51,  79,  50,  81],\n",
       "       [ 63,  82,  71,  70,  71],\n",
       "       [ 88,  84,  58,  96,  79],\n",
       "       [ 93,  90,  68,  75,  87],\n",
       "       [ 80,  77,  59,  92,  69],\n",
       "       [ 67,  52,  94,  60,  58],\n",
       "       [ 98,  91,  78,  61,  61],\n",
       "       [ 55,  94,  68,  95,  94],\n",
       "       [ 71,  59,  69,  59,  70],\n",
       "       [ 79,  77,  80,  70,  82],\n",
       "       [ 78,  86,  65,  75,  86],\n",
       "       [ 52,  91,  99,  77,  71],\n",
       "       [ 56,  88, 100,  78,  72],\n",
       "       [ 50,  79,  77,  64,  50],\n",
       "       [ 89,  58, 100,  53,  81],\n",
       "       [ 50,  76,  72,  69,  53],\n",
       "       [ 69,  79,  87,  85,  85],\n",
       "       [ 87,  52, 100,  64,  55],\n",
       "       [ 70,  70,  62,  95,  89],\n",
       "       [ 72,  58,  87,  91,  54],\n",
       "       [ 94,  57,  68,  84,  54],\n",
       "       [ 55,  97,  53,  51,  99],\n",
       "       [ 63,  89,  83, 100,  61],\n",
       "       [ 88,  97,  87,  66, 100],\n",
       "       [ 73,  86,  58,  58,  91],\n",
       "       [100,  54,  53,  96,  89],\n",
       "       [ 65,  59,  64,  76,  60],\n",
       "       [ 81,  69,  77,  92,  79],\n",
       "       [ 70,  52,  68,  98,  71],\n",
       "       [ 95,  57,  54,  54,  55],\n",
       "       [ 57,  99,  79,  88,  56],\n",
       "       [ 87,  85,  75,  70,  88],\n",
       "       [ 79,  52,  89,  88,  78],\n",
       "       [ 96,  81,  97,  62,  64],\n",
       "       [ 82,  95,  77,  68,  94]], dtype=int32)"
      ]
     },
     "execution_count": 9,
     "metadata": {},
     "output_type": "execute_result"
    }
   ],
   "source": [
    "scores = np.random.randint(50,101,size=(50, 5))\n",
    "scores"
   ]
  }
 ],
 "metadata": {
  "kernelspec": {
   "display_name": "python2_4",
   "language": "python",
   "name": "python3"
  },
  "language_info": {
   "codemirror_mode": {
    "name": "ipython",
    "version": 3
   },
   "file_extension": ".py",
   "mimetype": "text/x-python",
   "name": "python",
   "nbconvert_exporter": "python",
   "pygments_lexer": "ipython3",
   "version": "3.11.13"
  }
 },
 "nbformat": 4,
 "nbformat_minor": 5
}
