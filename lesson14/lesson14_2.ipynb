{
 "cells": [
  {
   "cell_type": "markdown",
   "id": "39c0c701",
   "metadata": {},
   "source": [
    "# ndarray的索引(index) ，切割(slice)"
   ]
  },
  {
   "cell_type": "code",
   "execution_count": 1,
   "id": "7bc869a4",
   "metadata": {},
   "outputs": [
    {
     "data": {
      "text/plain": [
       "array([7, 8, 9])"
      ]
     },
     "execution_count": 1,
     "metadata": {},
     "output_type": "execute_result"
    }
   ],
   "source": [
    "import numpy as np\n",
    "\n",
    "arr = np.arange(10)\n",
    "arr[0]\n",
    "arr[-1]\n",
    "arr[:3]\n",
    "arr[-3:]"
   ]
  },
  {
   "cell_type": "code",
   "execution_count": 2,
   "id": "18dc8660",
   "metadata": {},
   "outputs": [
    {
     "data": {
      "text/plain": [
       "79"
      ]
     },
     "execution_count": 2,
     "metadata": {},
     "output_type": "execute_result"
    }
   ],
   "source": [
    "import random\n",
    "random.randint(50,100)"
   ]
  },
  {
   "cell_type": "code",
   "execution_count": 3,
   "id": "a9ff1f56",
   "metadata": {},
   "outputs": [
    {
     "data": {
      "text/plain": [
       "(50, 5)"
      ]
     },
     "execution_count": 3,
     "metadata": {},
     "output_type": "execute_result"
    }
   ],
   "source": [
    "np.random.randint(50,101,size=5)\n",
    "scores = np.random.randint(50,101,size=(50,5))\n",
    "scores.size\n",
    "scores.shape"
   ]
  },
  {
   "cell_type": "code",
   "execution_count": 4,
   "id": "05b3f3b7",
   "metadata": {},
   "outputs": [
    {
     "data": {
      "text/plain": [
       "array([[ 55],\n",
       "       [ 58],\n",
       "       [ 85],\n",
       "       [ 89],\n",
       "       [ 70],\n",
       "       [ 50],\n",
       "       [ 55],\n",
       "       [ 76],\n",
       "       [ 84],\n",
       "       [ 86],\n",
       "       [ 86],\n",
       "       [ 81],\n",
       "       [ 79],\n",
       "       [ 55],\n",
       "       [ 97],\n",
       "       [ 88],\n",
       "       [ 56],\n",
       "       [ 67],\n",
       "       [ 76],\n",
       "       [ 94],\n",
       "       [ 86],\n",
       "       [ 62],\n",
       "       [ 51],\n",
       "       [ 59],\n",
       "       [ 54],\n",
       "       [ 66],\n",
       "       [ 69],\n",
       "       [ 50],\n",
       "       [ 61],\n",
       "       [ 81],\n",
       "       [ 62],\n",
       "       [ 73],\n",
       "       [ 92],\n",
       "       [ 73],\n",
       "       [ 57],\n",
       "       [ 69],\n",
       "       [ 97],\n",
       "       [ 58],\n",
       "       [ 74],\n",
       "       [ 50],\n",
       "       [ 96],\n",
       "       [ 81],\n",
       "       [ 70],\n",
       "       [ 89],\n",
       "       [ 84],\n",
       "       [ 54],\n",
       "       [ 81],\n",
       "       [100],\n",
       "       [ 79],\n",
       "       [ 81]], dtype=int32)"
      ]
     },
     "execution_count": 4,
     "metadata": {},
     "output_type": "execute_result"
    }
   ],
   "source": [
    "scores[:0] #一維\n",
    "scores[:,0:1] #二維\n"
   ]
  },
  {
   "cell_type": "code",
   "execution_count": 5,
   "id": "3af89951",
   "metadata": {},
   "outputs": [
    {
     "data": {
      "text/plain": [
       "array([[55, 63, 86, 65, 91]], dtype=int32)"
      ]
     },
     "execution_count": 5,
     "metadata": {},
     "output_type": "execute_result"
    }
   ],
   "source": [
    "scores[0,:]\n",
    "scores[0:1,:]"
   ]
  },
  {
   "cell_type": "code",
   "execution_count": 6,
   "id": "bcf2d069",
   "metadata": {},
   "outputs": [
    {
     "data": {
      "text/plain": [
       "array([72. , 75.2, 81.6, 75. , 65. , 71.8, 73.6, 81. , 85.8, 81.2, 79.2,\n",
       "       70.6, 79.4, 69.6, 76. , 85.8, 74.8, 79.4, 74.4, 62.6, 68. , 62.4,\n",
       "       72.8, 75.4, 72.8, 72.8, 83. , 74.6, 70.4, 73.8, 70. , 73.6, 84.2,\n",
       "       71. , 78.4, 65. , 75.6, 77. , 64.6, 67.8, 83.8, 77. , 78.2, 86.2,\n",
       "       76. , 58. , 79.8, 75.6, 75. , 70.4])"
      ]
     },
     "execution_count": 6,
     "metadata": {},
     "output_type": "execute_result"
    }
   ],
   "source": [
    "np.sum(scores,axis=1)\n",
    "np.mean(scores, axis=1)"
   ]
  },
  {
   "cell_type": "code",
   "execution_count": null,
   "id": "2335b3a5",
   "metadata": {},
   "outputs": [
    {
     "data": {
      "text/plain": [
       "array([ True, False, False, False, False])"
      ]
     },
     "execution_count": 8,
     "metadata": {},
     "output_type": "execute_result"
    }
   ],
   "source": [
    "#使用比較運算子\n",
    "arr = np.random.randn(5)\n",
    "arr > 0 #大於零的為true\n"
   ]
  },
  {
   "cell_type": "code",
   "execution_count": null,
   "id": "900c0eb1",
   "metadata": {},
   "outputs": [
    {
     "data": {
      "text/plain": [
       "array([1, 0, 0, 0, 0])"
      ]
     },
     "execution_count": 9,
     "metadata": {},
     "output_type": "execute_result"
    }
   ],
   "source": [
    "np.where(arr > 0, 1, 0) #true是零"
   ]
  },
  {
   "cell_type": "code",
   "execution_count": null,
   "id": "2b78c3ca",
   "metadata": {},
   "outputs": [
    {
     "data": {
      "text/plain": [
       "array([ 1.        , -1.46862135, -0.45403445, -0.46726794, -0.65452853])"
      ]
     },
     "execution_count": 10,
     "metadata": {},
     "output_type": "execute_result"
    }
   ],
   "source": [
    "np.where(arr > 0, 1, arr) #小於零的寫出完整數值，大於零的視為一"
   ]
  }
 ],
 "metadata": {
  "kernelspec": {
   "display_name": "python2_4",
   "language": "python",
   "name": "python3"
  },
  "language_info": {
   "codemirror_mode": {
    "name": "ipython",
    "version": 3
   },
   "file_extension": ".py",
   "mimetype": "text/x-python",
   "name": "python",
   "nbconvert_exporter": "python",
   "pygments_lexer": "ipython3",
   "version": "3.11.13"
  }
 },
 "nbformat": 4,
 "nbformat_minor": 5
}
