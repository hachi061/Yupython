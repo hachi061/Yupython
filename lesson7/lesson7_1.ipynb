{
 "cells": [
  {
   "cell_type": "markdown",
   "id": "e3c20975",
   "metadata": {},
   "source": [
    "### function的呼叫方式"
   ]
  },
  {
   "cell_type": "markdown",
   "id": "04187011",
   "metadata": {},
   "source": [
    "### 引數值的呼叫\n",
    "- 要依照參數的順序"
   ]
  },
  {
   "cell_type": "code",
   "execution_count": 3,
   "id": "74aee43c",
   "metadata": {},
   "outputs": [],
   "source": [
    "def menu(wine, entree, dessert):\n",
    "    print(f\"前酒:{wine}\")\n",
    "    print(f\"主餐:{entree}\")\n",
    "    print(f\"甜點:{dessert}\")"
   ]
  },
  {
   "cell_type": "code",
   "execution_count": 4,
   "id": "c140a245",
   "metadata": {},
   "outputs": [
    {
     "name": "stdout",
     "output_type": "stream",
     "text": [
      "前酒:白酒\n",
      "主餐:牛排\n",
      "甜點:蛋糕\n"
     ]
    }
   ],
   "source": [
    "#引數值的呼叫\n",
    "menu('白酒', '牛排', '蛋糕')"
   ]
  },
  {
   "cell_type": "markdown",
   "id": "bfcf7c42",
   "metadata": {},
   "source": [
    "### 引數名稱的呼叫\n",
    "- 使用參數的名稱當引數名稱\n",
    "- 可不依照參數順序"
   ]
  },
  {
   "cell_type": "code",
   "execution_count": null,
   "id": "ba361744",
   "metadata": {},
   "outputs": [],
   "source": [
    "def menu(wine, entree, dessert):\n",
    "    print(f\"前酒:{wine}\")\n",
    "    print(f\"主餐:{entree}\")\n",
    "    print(f\"甜點:{dessert}\")"
   ]
  },
  {
   "cell_type": "code",
   "execution_count": 5,
   "id": "a1502baa",
   "metadata": {},
   "outputs": [
    {
     "name": "stdout",
     "output_type": "stream",
     "text": [
      "前酒:白酒\n",
      "主餐:牛排\n",
      "甜點:蛋糕\n"
     ]
    }
   ],
   "source": [
    "menu(wine='白酒', entree='牛排', dessert='蛋糕')"
   ]
  },
  {
   "cell_type": "code",
   "execution_count": 6,
   "id": "a8ee4b9b",
   "metadata": {},
   "outputs": [
    {
     "name": "stdout",
     "output_type": "stream",
     "text": [
      "前酒:白酒\n",
      "主餐:牛排\n",
      "甜點:蛋糕\n"
     ]
    }
   ],
   "source": [
    "menu(wine='白酒', dessert='蛋糕',entree='牛排')"
   ]
  },
  {
   "cell_type": "markdown",
   "id": "32c1a5f5",
   "metadata": {},
   "source": [
    "### 混和呼叫\n",
    "- 前面一定先用引數值(位置)，後面引數名稱呼叫\n",
    "- 使用引數名稱呼叫後，後面全部都要使用引數名稱呼叫"
   ]
  },
  {
   "cell_type": "code",
   "execution_count": null,
   "id": "2a6ba06f",
   "metadata": {},
   "outputs": [],
   "source": [
    "def menu(wine, entree, dessert):\n",
    "    print(f\"前酒:{wine}\")\n",
    "    print(f\"主餐:{entree}\")\n",
    "    print(f\"甜點:{dessert}\")"
   ]
  },
  {
   "cell_type": "code",
   "execution_count": 7,
   "id": "9aaf2bf7",
   "metadata": {},
   "outputs": [
    {
     "name": "stdout",
     "output_type": "stream",
     "text": [
      "前酒:白酒\n",
      "主餐:牛排\n",
      "甜點:蛋糕\n"
     ]
    }
   ],
   "source": [
    "menu('白酒',entree='牛排',dessert='蛋糕')"
   ]
  },
  {
   "cell_type": "code",
   "execution_count": null,
   "id": "80cc931d",
   "metadata": {},
   "outputs": [
    {
     "name": "stdout",
     "output_type": "stream",
     "text": [
      "前酒:白酒\n",
      "主餐:牛排\n",
      "甜點:蛋糕\n"
     ]
    }
   ],
   "source": [
    "menu('白酒',dessert='蛋糕',entree='牛排')"
   ]
  },
  {
   "cell_type": "markdown",
   "id": "a321229c",
   "metadata": {},
   "source": [
    "### 定義參數時，指定參數的預設值\n",
    "- 有預設值的參數，一定要定義在最後面\n"
   ]
  },
  {
   "cell_type": "code",
   "execution_count": 1,
   "id": "bc5fbd5b",
   "metadata": {},
   "outputs": [],
   "source": [
    "def menu(wine, entree, dessert='奶昔'):\n",
    "    print(f\"前酒:{wine}\")\n",
    "    print(f\"主餐:{entree}\")\n",
    "    print(f\"甜點:{dessert}\")"
   ]
  },
  {
   "cell_type": "markdown",
   "id": "ad38bd20",
   "metadata": {},
   "source": [
    "### 呼叫時可以省略有預設值的參數"
   ]
  },
  {
   "cell_type": "code",
   "execution_count": 2,
   "id": "66563f52",
   "metadata": {},
   "outputs": [
    {
     "name": "stdout",
     "output_type": "stream",
     "text": [
      "前酒:紅酒\n",
      "主餐:牛排\n",
      "甜點:奶昔\n"
     ]
    }
   ],
   "source": [
    "menu('紅酒','牛排')"
   ]
  },
  {
   "cell_type": "markdown",
   "id": "5e453752",
   "metadata": {},
   "source": [
    "### 呼叫時可以取代有預設值的參數"
   ]
  },
  {
   "cell_type": "code",
   "execution_count": 4,
   "id": "15747965",
   "metadata": {},
   "outputs": [
    {
     "name": "stdout",
     "output_type": "stream",
     "text": [
      "前酒:紅酒\n",
      "主餐:牛排\n",
      "甜點:蛋糕\n"
     ]
    }
   ],
   "source": [
    "menu('紅酒','牛排',dessert='蛋糕')"
   ]
  },
  {
   "cell_type": "markdown",
   "id": "826b4d49",
   "metadata": {},
   "source": [
    "### *參數名稱\n",
    "- 沒有限定數量的引數值呼叫，也可以為零個引數值\n",
    "- 大部分有前面\n",
    "- 參數名稱可以任意名稱"
   ]
  },
  {
   "cell_type": "code",
   "execution_count": 5,
   "id": "b1adf540",
   "metadata": {},
   "outputs": [],
   "source": [
    "def print_args(*args):\n",
    "    #args是tuple\n",
    "    print(args)\n",
    "    "
   ]
  },
  {
   "cell_type": "code",
   "execution_count": 6,
   "id": "7ff73e7d",
   "metadata": {},
   "outputs": [
    {
     "data": {
      "text/plain": [
       "(1, 3, 5, 7, 9)"
      ]
     },
     "execution_count": 6,
     "metadata": {},
     "output_type": "execute_result"
    }
   ],
   "source": [
    "#tuple是把一組數值包在一起，使用小掛號()\n",
    "(1, 3, 5, 7, 9)"
   ]
  },
  {
   "cell_type": "code",
   "execution_count": 7,
   "id": "9587e2a5",
   "metadata": {},
   "outputs": [
    {
     "name": "stdout",
     "output_type": "stream",
     "text": [
      "('a', 'b', 'c', 1, 2, 3, True, False)\n"
     ]
    }
   ],
   "source": [
    "print_args('a','b','c', 1, 2, 3,True, False)"
   ]
  },
  {
   "cell_type": "markdown",
   "id": "632b82ab",
   "metadata": {},
   "source": [
    "### **參數名稱\n",
    "- 大部分放在最後面\n",
    "- 沒有限定數量的、引數值呼叫、，可以為零個\n",
    "- 參數名稱可以任意名稱"
   ]
  },
  {
   "cell_type": "code",
   "execution_count": 8,
   "id": "9d5f1150",
   "metadata": {},
   "outputs": [],
   "source": [
    "def print_kwargs(**kwargs):\n",
    "    #kwargs是dictionary\n",
    "    print(kwargs)"
   ]
  },
  {
   "cell_type": "code",
   "execution_count": 9,
   "id": "66b59d0d",
   "metadata": {},
   "outputs": [
    {
     "name": "stdout",
     "output_type": "stream",
     "text": [
      "{'one': 1, 'two': 2, 'three': 3, 'four': 4, 'five': 5}\n"
     ]
    }
   ],
   "source": [
    "print_kwargs(one=1,two=2,three=3,four=4,five=5)"
   ]
  },
  {
   "cell_type": "markdown",
   "id": "59692171",
   "metadata": {},
   "source": [
    "### 混合*args,**kwargs"
   ]
  },
  {
   "cell_type": "code",
   "execution_count": 2,
   "id": "b803336e",
   "metadata": {},
   "outputs": [],
   "source": [
    "def print_mixed(*args, **kwargs):\n",
    "    print(args)\n",
    "    print(kwargs)"
   ]
  },
  {
   "cell_type": "code",
   "execution_count": 3,
   "id": "6bd21b6c",
   "metadata": {},
   "outputs": [
    {
     "name": "stdout",
     "output_type": "stream",
     "text": [
      "('a', 'b', 1, 2, True, False)\n",
      "{'one': 1, 'two': 2, 'three': 3, 'four': 4}\n"
     ]
    }
   ],
   "source": [
    "print_mixed('a', 'b', 1, 2, True, False,\n",
    "            one=1,\n",
    "            two=2,\n",
    "            three=3,\n",
    "            four=4)"
   ]
  }
 ],
 "metadata": {
  "kernelspec": {
   "display_name": "base",
   "language": "python",
   "name": "python3"
  },
  "language_info": {
   "codemirror_mode": {
    "name": "ipython",
    "version": 3
   },
   "file_extension": ".py",
   "mimetype": "text/x-python",
   "name": "python",
   "nbconvert_exporter": "python",
   "pygments_lexer": "ipython3",
   "version": "3.12.9"
  }
 },
 "nbformat": 4,
 "nbformat_minor": 5
}
