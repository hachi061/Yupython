{
 "cells": [
  {
   "cell_type": "markdown",
   "id": "e1fcd5ed",
   "metadata": {},
   "source": [
    "### 複合指定運算子\n",
    "- \\+=\n",
    "- \\-=\n",
    "- \\*=\n",
    "- /=\n",
    "- //=\n",
    "- %=\n",
    "- **="
   ]
  },
  {
   "cell_type": "code",
   "execution_count": 1,
   "id": "8ec40b5b",
   "metadata": {},
   "outputs": [
    {
     "name": "stdout",
     "output_type": "stream",
     "text": [
      "15\n"
     ]
    }
   ],
   "source": [
    "n = 5\n",
    "n = n +10\n",
    "print(n)\n"
   ]
  },
  {
   "cell_type": "code",
   "execution_count": 3,
   "id": "3d8100ec",
   "metadata": {},
   "outputs": [
    {
     "name": "stdout",
     "output_type": "stream",
     "text": [
      "15\n"
     ]
    }
   ],
   "source": [
    "n = 5\n",
    "n += 10 #複合指定運算子\n",
    "print(n)\n"
   ]
  },
  {
   "cell_type": "markdown",
   "id": "c1bd73a3",
   "metadata": {},
   "source": [
    "### 使用內建函式庫(math)"
   ]
  },
  {
   "cell_type": "code",
   "execution_count": 1,
   "id": "69f011ff",
   "metadata": {},
   "outputs": [
    {
     "name": "stdout",
     "output_type": "stream",
     "text": [
      "鄰邊: 3\n",
      "對邊: 4\n",
      "斜邊長: 5.0\n"
     ]
    }
   ],
   "source": [
    "# 國中數學(only直角三角形)\n",
    "import math\n",
    "side = eval(input(\"請輸入鄰邊:\"))\n",
    "another_side = eval(input(\"請輸入對邊:\"))\n",
    "result = math.sqrt(side**2 + another_side**2)\n",
    "print(\"鄰邊:\", side)\n",
    "print(\"對邊:\" , another_side)\n",
    "print(\"斜邊長:\" , result)"
   ]
  },
  {
   "cell_type": "code",
   "execution_count": 3,
   "id": "f3b0b550",
   "metadata": {},
   "outputs": [
    {
     "name": "stdout",
     "output_type": "stream",
     "text": [
      "對邊: 3\n",
      "斜邊: 5\n",
      "角度是: 36.86989764584402\n"
     ]
    }
   ],
   "source": [
    "# 高中數學\n",
    "import math\n",
    "side = eval(input(\"請輸入對邊:\"))\n",
    "another_side = eval(input(\"請輸入斜邊:\"))\n",
    "radian = math.asin(side/another_side)\n",
    "degree = math.degrees(radian)\n",
    "print(\"對邊:\", side)\n",
    "print(\"斜邊:\" , another_side)\n",
    "print(\"角度是:\" , degree)\n"
   ]
  },
  {
   "cell_type": "markdown",
   "id": "d06faffc",
   "metadata": {},
   "source": [
    "# 字串插補(字串的格式化)"
   ]
  },
  {
   "cell_type": "code",
   "execution_count": 4,
   "id": "45f5e67f",
   "metadata": {},
   "outputs": [
    {
     "name": "stdout",
     "output_type": "stream",
     "text": [
      "國文成績:92,數學成績:100\n"
     ]
    }
   ],
   "source": [
    "# 字串相加\n",
    "chinese = 92\n",
    "math = 100\n",
    "print(\"國文成績:\" + str(chinese) + \",數學成績:\" + str(math))\n",
    "\n"
   ]
  },
  {
   "cell_type": "code",
   "execution_count": 1,
   "id": "910f7db1",
   "metadata": {},
   "outputs": [
    {
     "name": "stdout",
     "output_type": "stream",
     "text": [
      "國文成績:92.38,數學成績:100\n"
     ]
    }
   ],
   "source": [
    "# 字串和變數整合，成為全新的字串\n",
    "chinese = 92.3756\n",
    "math = 100\n",
    "print(f\"國文成績:{chinese:.2f},數學成績:{math}\") #變數的地方大括號 #:.2f四捨五入只要小數點後兩位"
   ]
  }
 ],
 "metadata": {
  "kernelspec": {
   "display_name": "base",
   "language": "python",
   "name": "python3"
  },
  "language_info": {
   "codemirror_mode": {
    "name": "ipython",
    "version": 3
   },
   "file_extension": ".py",
   "mimetype": "text/x-python",
   "name": "python",
   "nbconvert_exporter": "python",
   "pygments_lexer": "ipython3",
   "version": "3.12.9"
  }
 },
 "nbformat": 4,
 "nbformat_minor": 5
}
