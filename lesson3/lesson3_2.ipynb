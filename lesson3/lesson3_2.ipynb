{
 "cells": [
  {
   "cell_type": "markdown",
   "id": "e1fcd5ed",
   "metadata": {},
   "source": [
    "### 複合指定運算子\n",
    "- \\+=\n",
    "- \\-=\n",
    "- \\*=\n",
    "- /=\n",
    "- //=\n",
    "- %=\n",
    "- **="
   ]
  },
  {
   "cell_type": "code",
   "execution_count": 2,
   "id": "8ec40b5b",
   "metadata": {},
   "outputs": [
    {
     "name": "stdout",
     "output_type": "stream",
     "text": [
      "15\n"
     ]
    }
   ],
   "source": [
    "n = 5\n",
    "n = n +10\n",
    "print(n)\n"
   ]
  },
  {
   "cell_type": "code",
   "execution_count": 3,
   "id": "3d8100ec",
   "metadata": {},
   "outputs": [
    {
     "name": "stdout",
     "output_type": "stream",
     "text": [
      "15\n"
     ]
    }
   ],
   "source": [
    "n = 5\n",
    "n += 10 #複合指定運算子\n",
    "print(n)\n"
   ]
  },
  {
   "cell_type": "markdown",
   "id": "c1bd73a3",
   "metadata": {},
   "source": [
    "### 使用內建函式庫(math)"
   ]
  },
  {
   "cell_type": "code",
   "execution_count": 4,
   "id": "69f011ff",
   "metadata": {},
   "outputs": [
    {
     "ename": "KeyboardInterrupt",
     "evalue": "Interrupted by user",
     "output_type": "error",
     "traceback": [
      "\u001b[31m---------------------------------------------------------------------------\u001b[39m",
      "\u001b[31mKeyboardInterrupt\u001b[39m                         Traceback (most recent call last)",
      "\u001b[36mCell\u001b[39m\u001b[36m \u001b[39m\u001b[32mIn[4]\u001b[39m\u001b[32m, line 3\u001b[39m\n\u001b[32m      1\u001b[39m \u001b[38;5;66;03m# 國中數學(only直角三角形)\u001b[39;00m\n\u001b[32m      2\u001b[39m \u001b[38;5;28;01mimport\u001b[39;00m \u001b[34;01mmath\u001b[39;00m\n\u001b[32m----> \u001b[39m\u001b[32m3\u001b[39m side = \u001b[38;5;28meval\u001b[39m(\u001b[38;5;28;43minput\u001b[39;49m\u001b[43m(\u001b[49m\u001b[33;43m\"\u001b[39;49m\u001b[33;43m請輸入鄰邊:\u001b[39;49m\u001b[33;43m\"\u001b[39;49m\u001b[43m)\u001b[49m)\n\u001b[32m      4\u001b[39m another_side = \u001b[38;5;28meval\u001b[39m(\u001b[38;5;28minput\u001b[39m(\u001b[33m\"\u001b[39m\u001b[33m請輸入對邊:\u001b[39m\u001b[33m\"\u001b[39m))\n\u001b[32m      5\u001b[39m result = math.sqrt(side**\u001b[32m2\u001b[39m + another_side**\u001b[32m2\u001b[39m)\n",
      "\u001b[36mFile \u001b[39m\u001b[32m/opt/conda/lib/python3.12/site-packages/ipykernel/kernelbase.py:1282\u001b[39m, in \u001b[36mKernel.raw_input\u001b[39m\u001b[34m(self, prompt)\u001b[39m\n\u001b[32m   1280\u001b[39m     msg = \u001b[33m\"\u001b[39m\u001b[33mraw_input was called, but this frontend does not support input requests.\u001b[39m\u001b[33m\"\u001b[39m\n\u001b[32m   1281\u001b[39m     \u001b[38;5;28;01mraise\u001b[39;00m StdinNotImplementedError(msg)\n\u001b[32m-> \u001b[39m\u001b[32m1282\u001b[39m \u001b[38;5;28;01mreturn\u001b[39;00m \u001b[38;5;28;43mself\u001b[39;49m\u001b[43m.\u001b[49m\u001b[43m_input_request\u001b[49m\u001b[43m(\u001b[49m\n\u001b[32m   1283\u001b[39m \u001b[43m    \u001b[49m\u001b[38;5;28;43mstr\u001b[39;49m\u001b[43m(\u001b[49m\u001b[43mprompt\u001b[49m\u001b[43m)\u001b[49m\u001b[43m,\u001b[49m\n\u001b[32m   1284\u001b[39m \u001b[43m    \u001b[49m\u001b[38;5;28;43mself\u001b[39;49m\u001b[43m.\u001b[49m\u001b[43m_parent_ident\u001b[49m\u001b[43m[\u001b[49m\u001b[33;43m\"\u001b[39;49m\u001b[33;43mshell\u001b[39;49m\u001b[33;43m\"\u001b[39;49m\u001b[43m]\u001b[49m\u001b[43m,\u001b[49m\n\u001b[32m   1285\u001b[39m \u001b[43m    \u001b[49m\u001b[38;5;28;43mself\u001b[39;49m\u001b[43m.\u001b[49m\u001b[43mget_parent\u001b[49m\u001b[43m(\u001b[49m\u001b[33;43m\"\u001b[39;49m\u001b[33;43mshell\u001b[39;49m\u001b[33;43m\"\u001b[39;49m\u001b[43m)\u001b[49m\u001b[43m,\u001b[49m\n\u001b[32m   1286\u001b[39m \u001b[43m    \u001b[49m\u001b[43mpassword\u001b[49m\u001b[43m=\u001b[49m\u001b[38;5;28;43;01mFalse\u001b[39;49;00m\u001b[43m,\u001b[49m\n\u001b[32m   1287\u001b[39m \u001b[43m\u001b[49m\u001b[43m)\u001b[49m\n",
      "\u001b[36mFile \u001b[39m\u001b[32m/opt/conda/lib/python3.12/site-packages/ipykernel/kernelbase.py:1325\u001b[39m, in \u001b[36mKernel._input_request\u001b[39m\u001b[34m(self, prompt, ident, parent, password)\u001b[39m\n\u001b[32m   1322\u001b[39m \u001b[38;5;28;01mexcept\u001b[39;00m \u001b[38;5;167;01mKeyboardInterrupt\u001b[39;00m:\n\u001b[32m   1323\u001b[39m     \u001b[38;5;66;03m# re-raise KeyboardInterrupt, to truncate traceback\u001b[39;00m\n\u001b[32m   1324\u001b[39m     msg = \u001b[33m\"\u001b[39m\u001b[33mInterrupted by user\u001b[39m\u001b[33m\"\u001b[39m\n\u001b[32m-> \u001b[39m\u001b[32m1325\u001b[39m     \u001b[38;5;28;01mraise\u001b[39;00m \u001b[38;5;167;01mKeyboardInterrupt\u001b[39;00m(msg) \u001b[38;5;28;01mfrom\u001b[39;00m \u001b[38;5;28;01mNone\u001b[39;00m\n\u001b[32m   1326\u001b[39m \u001b[38;5;28;01mexcept\u001b[39;00m \u001b[38;5;167;01mException\u001b[39;00m:\n\u001b[32m   1327\u001b[39m     \u001b[38;5;28mself\u001b[39m.log.warning(\u001b[33m\"\u001b[39m\u001b[33mInvalid Message:\u001b[39m\u001b[33m\"\u001b[39m, exc_info=\u001b[38;5;28;01mTrue\u001b[39;00m)\n",
      "\u001b[31mKeyboardInterrupt\u001b[39m: Interrupted by user"
     ]
    }
   ],
   "source": [
    "# 國中數學(only直角三角形)\n",
    "import math\n",
    "side = eval(input(\"請輸入鄰邊:\"))\n",
    "another_side = eval(input(\"請輸入對邊:\"))\n",
    "result = math.sqrt(side**2 + another_side**2)\n",
    "print(\"鄰邊:\", side)\n",
    "print(\"對邊:\" , another_side)\n",
    "print(\"斜邊長:\" , result)"
   ]
  },
  {
   "cell_type": "code",
   "execution_count": null,
   "id": "f3b0b550",
   "metadata": {},
   "outputs": [
    {
     "name": "stdout",
     "output_type": "stream",
     "text": [
      "對邊: 2.5\n",
      "斜邊:5\n",
      "角度是:30.00\n"
     ]
    }
   ],
   "source": [
    "# 高中數學\n",
    "import math\n",
    "side = eval(input(\"請輸入對邊:\"))\n",
    "another_side = eval(input(\"請輸入斜邊:\"))\n",
    "radian = math.asin(side/another_side)\n",
    "degree = math.degrees(radian)\n",
    "print(f'對邊: {side}')\n",
    "print(f'斜邊:{another_side}')\n",
    "print(f'角度是:{degree:.2f}')\n",
    "\n"
   ]
  },
  {
   "cell_type": "markdown",
   "id": "d06faffc",
   "metadata": {},
   "source": [
    "# 字串插補(字串的格式化)"
   ]
  },
  {
   "cell_type": "code",
   "execution_count": null,
   "id": "45f5e67f",
   "metadata": {},
   "outputs": [
    {
     "name": "stdout",
     "output_type": "stream",
     "text": [
      "國文成績:92,數學成績:100\n"
     ]
    }
   ],
   "source": [
    "# 字串相加\n",
    "chinese = 92\n",
    "math = 100\n",
    "print(\"國文成績:\" + str(chinese) + \",數學成績:\" + str(math))\n",
    "\n"
   ]
  },
  {
   "cell_type": "code",
   "execution_count": null,
   "id": "910f7db1",
   "metadata": {},
   "outputs": [
    {
     "name": "stdout",
     "output_type": "stream",
     "text": [
      "國文成績:92.38,數學成績:100\n"
     ]
    }
   ],
   "source": [
    "# 字串和變數整合，成為全新的字串\n",
    "# 字串插補\n",
    "chinese = 92.3756\n",
    "math = 100\n",
    "print(f\"國文成績:{chinese:.2f},數學成績:{math}\") #變數的地方大括號 #:.2f四捨五入只要小數點後兩位"
   ]
  },
  {
   "cell_type": "code",
   "execution_count": null,
   "id": "b1c81b8b",
   "metadata": {},
   "outputs": [
    {
     "name": "stdout",
     "output_type": "stream",
     "text": [
      "計算BMI\n",
      "----------------------\n",
      "身高(cm): 173.0\n",
      "體重(kg):63.0\n",
      "BMI:21.0\n"
     ]
    }
   ],
   "source": [
    "##計算BMI\n",
    "import math\n",
    "print(\"計算BMI\")\n",
    "print(\"----------------------\")\n",
    "\n",
    "height = float(input(\"身高(cm):\"))\n",
    "weight = float(input(\"體重(kg):\"))\n",
    "\n",
    "bmi=weight/math.pow(height/100,2)\n",
    "print(\"身高(cm):\" , height)\n",
    "print(f'體重(kg):{weight}')\n",
    "print(\"BMI:%.1f\"%bmi)\n",
    "\n"
   ]
  },
  {
   "cell_type": "code",
   "execution_count": 13,
   "id": "d421f4e1",
   "metadata": {},
   "outputs": [
    {
     "name": "stdout",
     "output_type": "stream",
     "text": [
      "BMI計算\n",
      "您輸入的體重為220,體重不再30~200kg內\n"
     ]
    }
   ],
   "source": [
    "try:\n",
    "    import math\n",
    "    print(\"BMI計算\")\n",
    "\n",
    "    height:int = int(input(\"請輸入身高(cm):\"))\n",
    "    if height > 220 or height < 120:\n",
    "        raise Exception(f'您輸入的身高為{height},身高不在120~220cm內')\n",
    "    weight:int = int(input(\"請輸入體重(kg):\"))\n",
    "    if weight > 200 or weight < 30:\n",
    "        raise Exception(f'您輸入的體重為{weight},體重不再30~200kg內')\n",
    "    \n",
    "except ValueError:\n",
    "    print(\"輸入有為非數字之因子\")\n",
    "except Exception as e:\n",
    "    print(e)\n",
    "else:\n",
    "        bmi=weight/math.pow(height/100,2)\n",
    "        print(\"身高(cm):\" , height)\n",
    "        print(f'體重(kg):{weight}')\n",
    "        print(\"BMI:%.1f\"%bmi)\n",
    "\n"
   ]
  },
  {
   "cell_type": "code",
   "execution_count": null,
   "id": "1153f7ec",
   "metadata": {},
   "outputs": [],
   "source": []
  }
 ],
 "metadata": {
  "kernelspec": {
   "display_name": "base",
   "language": "python",
   "name": "python3"
  },
  "language_info": {
   "codemirror_mode": {
    "name": "ipython",
    "version": 3
   },
   "file_extension": ".py",
   "mimetype": "text/x-python",
   "name": "python",
   "nbconvert_exporter": "python",
   "pygments_lexer": "ipython3",
   "version": "3.12.9"
  }
 },
 "nbformat": 4,
 "nbformat_minor": 5
}
