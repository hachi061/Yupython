{
 "cells": [
  {
   "cell_type": "markdown",
   "id": "e0ff248d",
   "metadata": {},
   "source": [
    "### 數值運算(int,float)\n",
    "### 數值運算子\n",
    "### 數學運算順序\n"
   ]
  },
  {
   "cell_type": "code",
   "execution_count": 1,
   "id": "3f99f475",
   "metadata": {},
   "outputs": [
    {
     "data": {
      "text/plain": [
       "10"
      ]
     },
     "execution_count": 1,
     "metadata": {},
     "output_type": "execute_result"
    }
   ],
   "source": [
    "2*(1+2)**2-2**2*2\n"
   ]
  },
  {
   "cell_type": "code",
   "execution_count": 1,
   "id": "17ad4140",
   "metadata": {},
   "outputs": [
    {
     "data": {
      "text/plain": [
       "25"
      ]
     },
     "execution_count": 1,
     "metadata": {},
     "output_type": "execute_result"
    }
   ],
   "source": [
    "5+10 #運算式\n",
    "20+5 #運算式"
   ]
  },
  {
   "cell_type": "markdown",
   "id": "af80a9ce",
   "metadata": {},
   "source": [
    "### 建立變數\n",
    "- 依靠指定運算子\n"
   ]
  },
  {
   "cell_type": "code",
   "execution_count": 4,
   "id": "bfd3c3e6",
   "metadata": {},
   "outputs": [
    {
     "name": "stdout",
     "output_type": "stream",
     "text": [
      "total= 40\n"
     ]
    }
   ],
   "source": [
    "n=15 #敘述式\n",
    "m=25 #敘述式\n",
    "total= n + m #敘述式\n",
    "print(\"total=\", total) #敘述式"
   ]
  },
  {
   "cell_type": "code",
   "execution_count": 5,
   "id": "8910575b",
   "metadata": {},
   "outputs": [
    {
     "name": "stdout",
     "output_type": "stream",
     "text": [
      "15 25\n"
     ]
    }
   ],
   "source": [
    "x=5+10 \n",
    "y=20+5\n",
    "print(x,y)"
   ]
  },
  {
   "cell_type": "markdown",
   "id": "f66e53a1",
   "metadata": {},
   "source": [
    "### 輸入 \n",
    "- input()\n",
    "\n",
    "### 輸出\n",
    "- print()\n"
   ]
  },
  {
   "cell_type": "code",
   "execution_count": 3,
   "id": "026405e9",
   "metadata": {},
   "outputs": [
    {
     "name": "stdout",
     "output_type": "stream",
     "text": [
      "您輸入的是整數: 20\n"
     ]
    }
   ],
   "source": [
    "value_str= input(\"請輸入整數:\")\n",
    "value =int(value_str)\n",
    "print(\"您輸入的是整數:\", value)"
   ]
  }
 ],
 "metadata": {
  "kernelspec": {
   "display_name": "base",
   "language": "python",
   "name": "python3"
  },
  "language_info": {
   "codemirror_mode": {
    "name": "ipython",
    "version": 3
   },
   "file_extension": ".py",
   "mimetype": "text/x-python",
   "name": "python",
   "nbconvert_exporter": "python",
   "pygments_lexer": "ipython3",
   "version": "3.12.9"
  }
 },
 "nbformat": 4,
 "nbformat_minor": 5
}
