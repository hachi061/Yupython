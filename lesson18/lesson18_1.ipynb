{
 "cells": [
  {
   "cell_type": "markdown",
   "id": "05692d51",
   "metadata": {},
   "source": [
    "\n",
    "https://www.perplexity.ai/search/81642e0f-4214-4e4f-ba5a-a483c3484685"
   ]
  }
 ],
 "metadata": {
  "kernelspec": {
   "display_name": "python2_4",
   "language": "python",
   "name": "python3"
  },
  "language_info": {
   "name": "python",
   "version": "3.11.13"
  }
 },
 "nbformat": 4,
 "nbformat_minor": 5
}
